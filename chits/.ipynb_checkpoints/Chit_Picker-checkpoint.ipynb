{
 "cells": [
  {
   "cell_type": "code",
   "execution_count": 5,
   "id": "78e47efc",
   "metadata": {},
   "outputs": [],
   "source": [
    "import pandas as pd\n",
    "import random\n",
    "import names\n",
    "from random import randrange\n",
    "import numpy as np\n",
    "#from collections import defaultdict"
   ]
  },
  {
   "cell_type": "code",
   "execution_count": null,
   "id": "8f17c331",
   "metadata": {},
   "outputs": [],
   "source": [
    "#list = [\"Kelechi Nwachukwu\", \"Alexander Lorin\", \"Arnold Wamulanga\", \"Corey Chickowski\", \"Ellis Purwanto\", \"Erica Prickett\", \n",
    "         #\"Joby Augustine\", \"Karla Robles\", \"Marc Avoaka\", \"Nazih Bouanani\", \"Prajesh Patel\", \"Prince Emenalo\", \"Ra Ish Andrews\", \n",
    "         #\"Rajeshwari Natchiappan\", \"Rudy Duvnjak\", \"Ryan Hulett\", \"Shailesh Godkhindi\", \"Shreya Udeshi\", \"Stormm Van Rooi\",\n",
    "          #\"Thomas Lawless\"]\n",
    "\n",
    "#dict = {}\n",
    "\n",
    "#for i in list:\n",
    "  #  dict[i] =+1\n",
    "\n",
    "#print(dict [\"Kelechi Nwachukwu\"])\n",
    "\n",
    "\n",
    "#item = random.choice(list)\n",
    "#print(item)"
   ]
  },
  {
   "cell_type": "code",
   "execution_count": 2,
   "id": "5c6f5a44",
   "metadata": {},
   "outputs": [
    {
     "name": "stdout",
     "output_type": "stream",
     "text": [
      "                      Name\n",
      "0        Kelechi Nwachukwu\n",
      "1          Alexander Lorin\n",
      "2         Arnold Wamulanga\n",
      "3         Corey Chickowski\n",
      "4           Ellis Purwanto\n",
      "5           Erica Prickett\n",
      "6           Joby Augustine\n",
      "7             Karla Robles\n",
      "8              Marc Avoaka\n",
      "9           Nazih Bouanani\n",
      "10           Prajesh Patel\n",
      "11          Prince Emenalo\n",
      "12          Ra Ish Andrews\n",
      "13  Rajeshwari Natchiappan\n",
      "14            Rudy Duvnjak\n",
      "15             Ryan Hulett\n",
      "16      Shailesh Godkhindi\n",
      "17           Shreya Udeshi\n",
      "18         Stormm Van Rooi\n",
      "19          Thomas Lawless\n"
     ]
    }
   ],
   "source": [
    "list = {'Name':[\"Kelechi Nwachukwu\", \"Alexander Lorin\", \"Arnold Wamulanga\", \"Corey Chickowski\", \"Ellis Purwanto\", \n",
    "                 \"Erica Prickett\", \"Joby Augustine\", \"Karla Robles\", \"Marc Avoaka\", \"Nazih Bouanani\", \"Prajesh Patel\", \n",
    "                 \"Prince Emenalo\", \"Ra Ish Andrews\", \"Rajeshwari Natchiappan\", \"Rudy Duvnjak\", \n",
    "                  \"Ryan Hulett\", \"Shailesh Godkhindi\", \"Shreya Udeshi\", \"Stormm Van Rooi\", \"Thomas Lawless\"] }\n",
    "\n",
    "\n",
    "# Calling DataFrame constructor on list  \n",
    "name_pick_df = pd.DataFrame(list)  \n",
    "print(name_pick_df)  "
   ]
  },
  {
   "cell_type": "code",
   "execution_count": 15,
   "id": "71b99e22",
   "metadata": {},
   "outputs": [
    {
     "data": {
      "text/html": [
       "<div>\n",
       "<style scoped>\n",
       "    .dataframe tbody tr th:only-of-type {\n",
       "        vertical-align: middle;\n",
       "    }\n",
       "\n",
       "    .dataframe tbody tr th {\n",
       "        vertical-align: top;\n",
       "    }\n",
       "\n",
       "    .dataframe thead th {\n",
       "        text-align: right;\n",
       "    }\n",
       "</style>\n",
       "<table border=\"1\" class=\"dataframe\">\n",
       "  <thead>\n",
       "    <tr style=\"text-align: right;\">\n",
       "      <th></th>\n",
       "      <th>Name</th>\n",
       "    </tr>\n",
       "  </thead>\n",
       "  <tbody>\n",
       "    <tr>\n",
       "      <th>18</th>\n",
       "      <td>Stormm Van Rooi</td>\n",
       "    </tr>\n",
       "  </tbody>\n",
       "</table>\n",
       "</div>"
      ],
      "text/plain": [
       "               Name\n",
       "18  Stormm Van Rooi"
      ]
     },
     "execution_count": 15,
     "metadata": {},
     "output_type": "execute_result"
    }
   ],
   "source": [
    "selection = name_pick_df.sample() \n",
    "selection"
   ]
  },
  {
   "cell_type": "code",
   "execution_count": 21,
   "id": "decdd425",
   "metadata": {},
   "outputs": [
    {
     "data": {
      "text/plain": [
       "['Kelechi Nwachukwu',\n",
       " 'Alexander Lorin',\n",
       " 'Arnold Wamulanga',\n",
       " 'Corey Chickowski',\n",
       " 'Ellis Purwanto',\n",
       " 'Erica Prickett',\n",
       " 'Joby Augustine',\n",
       " 'Karla Robles',\n",
       " 'Marc Avoaka',\n",
       " 'Nazih Bouanani',\n",
       " 'Prajesh Patel',\n",
       " 'Prince Emenalo',\n",
       " 'Ra Ish Andrews',\n",
       " 'Rajeshwari Natchiappan',\n",
       " 'Rudy Duvnjak',\n",
       " 'Ryan Hulett',\n",
       " 'Shailesh Godkhindi',\n",
       " 'Shreya Udeshi',\n",
       " 'Stormm Van Rooi',\n",
       " 'Thomas Lawless']"
      ]
     },
     "execution_count": 21,
     "metadata": {},
     "output_type": "execute_result"
    }
   ],
   "source": [
    "name_pick_df['Name'].tolist()"
   ]
  },
  {
   "cell_type": "code",
   "execution_count": null,
   "id": "cbdd0a85",
   "metadata": {},
   "outputs": [],
   "source": []
  },
  {
   "cell_type": "code",
   "execution_count": null,
   "id": "82f664df",
   "metadata": {},
   "outputs": [],
   "source": [
    "selection = set(name_pick_df['Name'].tolist())\n"
   ]
  },
  {
   "cell_type": "code",
   "execution_count": 7,
   "id": "f9c8d2d1",
   "metadata": {},
   "outputs": [
    {
     "data": {
      "text/plain": [
       "'Rajeshwari Natchiappan'"
      ]
     },
     "execution_count": 7,
     "metadata": {},
     "output_type": "execute_result"
    }
   ],
   "source": [
    "#selection.iloc[0,0]"
   ]
  },
  {
   "cell_type": "code",
   "execution_count": 9,
   "id": "5742e816",
   "metadata": {},
   "outputs": [],
   "source": [
    "name_dict = {}"
   ]
  },
  {
   "cell_type": "code",
   "execution_count": 16,
   "id": "5ae12d12",
   "metadata": {},
   "outputs": [],
   "source": [
    "if selection.iloc[0,0] in name_dict:\n",
    "    name_dict[selection.iloc[0,0]] +=1\n",
    "else:\n",
    "    name_dict[selection.iloc[0,0]] = 1\n",
    "\n",
    "#print(name_dict [\"Kelechi Nwachukwu\"])"
   ]
  },
  {
   "cell_type": "code",
   "execution_count": 17,
   "id": "05f0eac1",
   "metadata": {},
   "outputs": [
    {
     "data": {
      "text/plain": [
       "{'Erica Prickett': 1,\n",
       " 'Shailesh Godkhindi': 1,\n",
       " 'Rajeshwari Natchiappan': 1,\n",
       " 'Stormm Van Rooi': 1}"
      ]
     },
     "execution_count": 17,
     "metadata": {},
     "output_type": "execute_result"
    }
   ],
   "source": [
    "name_dict"
   ]
  },
  {
   "cell_type": "code",
   "execution_count": 22,
   "id": "1e0689fe",
   "metadata": {},
   "outputs": [
    {
     "data": {
      "text/plain": [
       "dict_keys(['Erica Prickett', 'Shailesh Godkhindi', 'Rajeshwari Natchiappan', 'Stormm Van Rooi'])"
      ]
     },
     "execution_count": 22,
     "metadata": {},
     "output_type": "execute_result"
    }
   ],
   "source": [
    "name_dict.keys()"
   ]
  }
 ],
 "metadata": {
  "kernelspec": {
   "display_name": "Python 3",
   "language": "python",
   "name": "python3"
  },
  "language_info": {
   "codemirror_mode": {
    "name": "ipython",
    "version": 3
   },
   "file_extension": ".py",
   "mimetype": "text/x-python",
   "name": "python",
   "nbconvert_exporter": "python",
   "pygments_lexer": "ipython3",
   "version": "3.8.8"
  }
 },
 "nbformat": 4,
 "nbformat_minor": 5
}
